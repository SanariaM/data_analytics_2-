{
  "nbformat": 4,
  "nbformat_minor": 0,
  "metadata": {
    "colab": {
      "name": "Unit2_L3",
      "provenance": [],
      "collapsed_sections": [],
      "authorship_tag": "ABX9TyMmDMpdqmKwzsxAYccADt8T",
      "include_colab_link": true
    },
    "kernelspec": {
      "name": "python3",
      "display_name": "Python 3"
    },
    "language_info": {
      "name": "python"
    }
  },
  "cells": [
    {
      "cell_type": "markdown",
      "metadata": {
        "id": "view-in-github",
        "colab_type": "text"
      },
      "source": [
        "<a href=\"https://colab.research.google.com/github/SanariaM/data_analytics_2-/blob/main/Unit2_L3.ipynb\" target=\"_parent\"><img src=\"https://colab.research.google.com/assets/colab-badge.svg\" alt=\"Open In Colab\"/></a>"
      ]
    },
    {
      "cell_type": "markdown",
      "metadata": {
        "id": "PT16lwNiV6VF"
      },
      "source": [
        "1- Create a list of 5 of your favorite tv shows.  \n",
        "2- Print the list in its original order.\n"
      ]
    },
    {
      "cell_type": "code",
      "metadata": {
        "colab": {
          "base_uri": "https://localhost:8080/"
        },
        "id": "CU29CN_FV-hr",
        "outputId": "8a920aa4-9cac-40c7-8e5a-d91f93ac01d9"
      },
      "source": [
        "tv_shows = ['Law and Order', 'Blue Bloods' , 'Chicago PD' , 'Familty Feud','Mr. Bean']\n",
        "print(tv_shows)"
      ],
      "execution_count": null,
      "outputs": [
        {
          "output_type": "stream",
          "text": [
            "['Law and Order', 'Blue Bloods', 'Chicago PD', 'Familty Feud', 'Mr. Bean']\n"
          ],
          "name": "stdout"
        }
      ]
    },
    {
      "cell_type": "markdown",
      "metadata": {
        "id": "ZKOMt-j_YQ4O"
      },
      "source": [
        "3- Use the sorted() function to print the list in alphabetical order.  How is sorted() different from sort()?\n",
        "we can use the sorted() function to temporarily sort our list.\n",
        "\n",
        "4- Print out your original list.\n"
      ]
    },
    {
      "cell_type": "code",
      "metadata": {
        "colab": {
          "base_uri": "https://localhost:8080/"
        },
        "id": "lEEfSt5xZyj6",
        "outputId": "adf819b9-59c9-4080-b048-cb9d30b31e2a"
      },
      "source": [
        "print(tv_shows)\n",
        "print(sorted(tv_shows))\n",
        "print(tv_shows)"
      ],
      "execution_count": null,
      "outputs": [
        {
          "output_type": "stream",
          "text": [
            "['Law and Order', 'Blue Bloods', 'Chicago PD', 'Familty Feud', 'Mr. Bean']\n",
            "['Blue Bloods', 'Chicago PD', 'Familty Feud', 'Law and Order', 'Mr. Bean']\n",
            "['Law and Order', 'Blue Bloods', 'Chicago PD', 'Familty Feud', 'Mr. Bean']\n"
          ],
          "name": "stdout"
        }
      ]
    },
    {
      "cell_type": "markdown",
      "metadata": {
        "id": "nGynOp0ocREO"
      },
      "source": [
        "5- Used sorted() to print your list in reverse alphabetical order.\n"
      ]
    },
    {
      "cell_type": "code",
      "metadata": {
        "colab": {
          "base_uri": "https://localhost:8080/"
        },
        "id": "_Gj4V4-XcVMY",
        "outputId": "9f9ad1d8-0d3d-4cea-8463-26eb9925007b"
      },
      "source": [
        "print(tv_shows)\n",
        "tv_shows.sort(reverse=True)\n",
        "print(tv_shows)"
      ],
      "execution_count": null,
      "outputs": [
        {
          "output_type": "stream",
          "text": [
            "['Blue Bloods', 'Chicago PD', 'Familty Feud', 'Law and Order', 'Mr. Bean']\n",
            "['Mr. Bean', 'Law and Order', 'Familty Feud', 'Chicago PD', 'Blue Bloods']\n"
          ],
          "name": "stdout"
        }
      ]
    },
    {
      "cell_type": "markdown",
      "metadata": {
        "id": "-Pm4S4_PdQv8"
      },
      "source": [
        "6- Create a message indicating how many favorite TV shows you have – use the len() function.\n"
      ]
    },
    {
      "cell_type": "code",
      "metadata": {
        "colab": {
          "base_uri": "https://localhost:8080/"
        },
        "id": "XqtRlXytdXh0",
        "outputId": "50d4b5d2-9c16-4535-d276-33167661ea37"
      },
      "source": [
        "print(tv_shows)\n",
        "len(tv_shows)"
      ],
      "execution_count": null,
      "outputs": [
        {
          "output_type": "stream",
          "text": [
            "['Mr. Bean', 'Law and Order', 'Familty Feud', 'Chicago PD', 'Blue Bloods']\n"
          ],
          "name": "stdout"
        },
        {
          "output_type": "execute_result",
          "data": {
            "text/plain": [
              "5"
            ]
          },
          "metadata": {
            "tags": []
          },
          "execution_count": 5
        }
      ]
    }
  ]
}