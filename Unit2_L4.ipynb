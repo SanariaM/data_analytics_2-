{
  "nbformat": 4,
  "nbformat_minor": 0,
  "metadata": {
    "colab": {
      "name": "Unit2_L4",
      "provenance": [],
      "collapsed_sections": [],
      "authorship_tag": "ABX9TyNjb/xSqC94Cyb8Vup2NLk0",
      "include_colab_link": true
    },
    "kernelspec": {
      "name": "python3",
      "display_name": "Python 3"
    },
    "language_info": {
      "name": "python"
    }
  },
  "cells": [
    {
      "cell_type": "markdown",
      "metadata": {
        "id": "view-in-github",
        "colab_type": "text"
      },
      "source": [
        "<a href=\"https://colab.research.google.com/github/SanariaM/data_analytics_2-/blob/main/Unit2_L4.ipynb\" target=\"_parent\"><img src=\"https://colab.research.google.com/assets/colab-badge.svg\" alt=\"Open In Colab\"/></a>"
      ]
    },
    {
      "cell_type": "markdown",
      "metadata": {
        "id": "RQNJOb6moBe_"
      },
      "source": [
        "1- Create a list that holds 5 data variables. \n"
      ]
    },
    {
      "cell_type": "code",
      "metadata": {
        "id": "b3khFxmfoGV5"
      },
      "source": [
        "favorite_food =['pizza','fish','salad','soup','rise']"
      ],
      "execution_count": null,
      "outputs": []
    },
    {
      "cell_type": "markdown",
      "metadata": {
        "id": "KPd49TnlqdRX"
      },
      "source": [
        "2-Print out those variables by using a for loop."
      ]
    },
    {
      "cell_type": "code",
      "metadata": {
        "colab": {
          "base_uri": "https://localhost:8080/"
        },
        "id": "m_NJsEjPq6wn",
        "outputId": "4abace70-1f3a-4bd4-c7f7-1f747f0b6c38"
      },
      "source": [
        "for food in favorite_food:\n",
        "  print(food)"
      ],
      "execution_count": null,
      "outputs": [
        {
          "output_type": "stream",
          "text": [
            "pizza\n",
            "fish\n",
            "salad\n",
            "soup\n",
            "rise\n"
          ],
          "name": "stdout"
        }
      ]
    },
    {
      "cell_type": "markdown",
      "metadata": {
        "id": "Sf2XaiSUrOom"
      },
      "source": [
        "3-Modify your for loop to add a message to your for loop."
      ]
    },
    {
      "cell_type": "code",
      "metadata": {
        "colab": {
          "base_uri": "https://localhost:8080/"
        },
        "id": "JfbtP2ODrS50",
        "outputId": "ed76733d-a55f-49f5-ab3a-ad2012eb5e17"
      },
      "source": [
        " for food in favorite_food: \n",
        "  print(food.title() + \", is one of my favorite food!\")\n"
      ],
      "execution_count": null,
      "outputs": [
        {
          "output_type": "stream",
          "text": [
            "Pizza, is one of my favorite food!\n",
            "Fish, is one of my favorite food!\n",
            "Salad, is one of my favorite food!\n",
            "Soup, is one of my favorite food!\n",
            "Rise, is one of my favorite food!\n"
          ],
          "name": "stdout"
        }
      ]
    },
    {
      "cell_type": "markdown",
      "metadata": {
        "id": "zuHZ781GnpOs"
      },
      "source": [
        "5-Sort your list in alphabetical order."
      ]
    },
    {
      "cell_type": "code",
      "metadata": {
        "colab": {
          "base_uri": "https://localhost:8080/"
        },
        "id": "6d9D5PsCnrs3",
        "outputId": "9a4486d4-9a6f-4836-c5f6-a624bd75c181"
      },
      "source": [
        "print(favorite_food)\n",
        "favorite_food.sort()\n",
        "print(favorite_food)"
      ],
      "execution_count": null,
      "outputs": [
        {
          "output_type": "stream",
          "text": [
            "['pizza', 'fish', 'salad', 'soup', 'rise']\n",
            "['fish', 'pizza', 'rise', 'salad', 'soup']\n"
          ],
          "name": "stdout"
        }
      ]
    },
    {
      "cell_type": "markdown",
      "metadata": {
        "id": "BXYtNcP6oYWp"
      },
      "source": [
        "\n",
        "6-Print out the first three elements of your list.\n"
      ]
    },
    {
      "cell_type": "code",
      "metadata": {
        "colab": {
          "base_uri": "https://localhost:8080/"
        },
        "id": "KRb538r7osxP",
        "outputId": "cd8833d1-e092-45ac-afc2-29873bc907dd"
      },
      "source": [
        "print(favorite_food[0:3])"
      ],
      "execution_count": null,
      "outputs": [
        {
          "output_type": "stream",
          "text": [
            "['fish', 'pizza', 'rise']\n"
          ],
          "name": "stdout"
        }
      ]
    },
    {
      "cell_type": "markdown",
      "metadata": {
        "id": "_q24CC-eptY8"
      },
      "source": [
        "7-Create a loop to print the last 2 elements of your list."
      ]
    },
    {
      "cell_type": "code",
      "metadata": {
        "colab": {
          "base_uri": "https://localhost:8080/"
        },
        "id": "ytZzaqhVp6FW",
        "outputId": "dd0abd21-b8fb-4424-ca26-085427e83f51"
      },
      "source": [
        "for food in favorite_food[3:]:\n",
        "  print(food)"
      ],
      "execution_count": null,
      "outputs": [
        {
          "output_type": "stream",
          "text": [
            "salad\n",
            "soup\n"
          ],
          "name": "stdout"
        }
      ]
    }
  ]
}