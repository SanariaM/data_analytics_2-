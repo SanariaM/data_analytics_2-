{
  "nbformat": 4,
  "nbformat_minor": 0,
  "metadata": {
    "colab": {
      "name": "Unit2_L4",
      "provenance": [],
      "collapsed_sections": [],
      "authorship_tag": "ABX9TyMWO09Ek0J0oQQL73oV2hqr",
      "include_colab_link": true
    },
    "kernelspec": {
      "name": "python3",
      "display_name": "Python 3"
    },
    "language_info": {
      "name": "python"
    }
  },
  "cells": [
    {
      "cell_type": "markdown",
      "metadata": {
        "id": "view-in-github",
        "colab_type": "text"
      },
      "source": [
        "<a href=\"https://colab.research.google.com/github/SanariaM/data_analytics_2-/blob/main/Unit2_L4.ipynb\" target=\"_parent\"><img src=\"https://colab.research.google.com/assets/colab-badge.svg\" alt=\"Open In Colab\"/></a>"
      ]
    },
    {
      "cell_type": "markdown",
      "metadata": {
        "id": "-ZqP62snlq7B"
      },
      "source": [
        "4-Use a for loop to print even numbers from 1-20."
      ]
    },
    {
      "cell_type": "code",
      "metadata": {
        "id": "fVLZomWWkwRr",
        "colab": {
          "base_uri": "https://localhost:8080/"
        },
        "outputId": "9ab58088-afd5-4236-cc5a-70fa62499a1c"
      },
      "source": [
        "for i in range(1,21):\n",
        "  if(i%2==0):\n",
        "    print(i,end=\" \")"
      ],
      "execution_count": null,
      "outputs": [
        {
          "output_type": "stream",
          "text": [
            "2 4 6 8 10 12 14 16 18 20 "
          ],
          "name": "stdout"
        }
      ]
    }
  ]
}