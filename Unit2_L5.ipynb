{
  "nbformat": 4,
  "nbformat_minor": 0,
  "metadata": {
    "colab": {
      "name": "Unit2_L5",
      "provenance": [],
      "collapsed_sections": [],
      "authorship_tag": "ABX9TyOQgOZa6Xz7nwgPzmx4hDuy",
      "include_colab_link": true
    },
    "kernelspec": {
      "name": "python3",
      "display_name": "Python 3"
    },
    "language_info": {
      "name": "python"
    }
  },
  "cells": [
    {
      "cell_type": "markdown",
      "metadata": {
        "id": "view-in-github",
        "colab_type": "text"
      },
      "source": [
        "<a href=\"https://colab.research.google.com/github/SanariaM/data_analytics_2-/blob/main/Unit2_L5.ipynb\" target=\"_parent\"><img src=\"https://colab.research.google.com/assets/colab-badge.svg\" alt=\"Open In Colab\"/></a>"
      ]
    },
    {
      "cell_type": "markdown",
      "metadata": {
        "id": "J2B72aLniVZE"
      },
      "source": [
        "1-Make a list of 5 or more usernames, including an admin account.  Imagine you are writing code that will welcome people to your application on login. Loop through the list and print your greeting.\n",
        "If the admin account logs in, give them a special greeting.  They’re the admin, after all!\n",
        "Other users can get the generic greeting\n",
        "\n"
      ]
    },
    {
      "cell_type": "code",
      "metadata": {
        "colab": {
          "base_uri": "https://localhost:8080/"
        },
        "id": "uWOKW3r4ibM4",
        "outputId": "dc498f0c-60cd-408e-fc73-3449eaeccb68"
      },
      "source": [
        "usernames = ['Anton', 'Sanaria', 'Lana','Maryam','Ruqayyah']\n",
        "for user in usernames:\n",
        "    if user == 'admin':\n",
        "        print(\"Hello admin, welcome to our application\")\n",
        "    else:\n",
        "        print(\"Hello \" + user.title() + \", thank you for coming back in again.\")\n",
        "\n"
      ],
      "execution_count": 6,
      "outputs": [
        {
          "output_type": "stream",
          "text": [
            "Hello Anton, thank you for coming back in again.\n",
            "Hello Sanaria, thank you for coming back in again.\n",
            "Hello Lana, thank you for coming back in again.\n",
            "Hello Maryam, thank you for coming back in again.\n",
            "Hello Ruqayyah, thank you for coming back in again.\n"
          ],
          "name": "stdout"
        }
      ]
    },
    {
      "cell_type": "markdown",
      "metadata": {
        "id": "qh_W6rZgk1-u"
      },
      "source": [
        "Store numbers 1-10 in a list\n",
        "Loop through the list\n",
        "Use an if-elif-else chain inside your loop to print the ordinal ending for each number – for example – 1st, 2nd, 3rd … etc.\n"
      ]
    },
    {
      "cell_type": "code",
      "metadata": {
        "colab": {
          "base_uri": "https://localhost:8080/"
        },
        "id": "cRR_Q4D4k-q0",
        "outputId": "02a3e435-8e0c-443d-9900-991492b3a820"
      },
      "source": [
        "num = list(range(1,10))\n",
        "\n",
        "for number in num:\n",
        "    if number == 1:\n",
        "        print(\"1st\")\n",
        "    elif number == 2:\n",
        "        print(\"2nd\")\n",
        "    elif number == 3:\n",
        "        print(\"3rd\")\n",
        "    else:\n",
        "        print(str(number) + \"th\")"
      ],
      "execution_count": 7,
      "outputs": [
        {
          "output_type": "stream",
          "text": [
            "1st\n",
            "2nd\n",
            "3rd\n",
            "4th\n",
            "5th\n",
            "6th\n",
            "7th\n",
            "8th\n",
            "9th\n"
          ],
          "name": "stdout"
        }
      ]
    }
  ]
}