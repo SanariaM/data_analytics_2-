{
  "nbformat": 4,
  "nbformat_minor": 0,
  "metadata": {
    "colab": {
      "name": "Unit2_L6",
      "provenance": [],
      "collapsed_sections": [],
      "authorship_tag": "ABX9TyMQuZbjSUtEzFBZpmVovOvU",
      "include_colab_link": true
    },
    "kernelspec": {
      "name": "python3",
      "display_name": "Python 3"
    },
    "language_info": {
      "name": "python"
    }
  },
  "cells": [
    {
      "cell_type": "markdown",
      "metadata": {
        "id": "view-in-github",
        "colab_type": "text"
      },
      "source": [
        "<a href=\"https://colab.research.google.com/github/SanariaM/data_analytics_2-/blob/main/Unit2_L6.ipynb\" target=\"_parent\"><img src=\"https://colab.research.google.com/assets/colab-badge.svg\" alt=\"Open In Colab\"/></a>"
      ]
    },
    {
      "cell_type": "markdown",
      "metadata": {
        "id": "enarkU53sLts"
      },
      "source": [
        "1-Create a simple dictionary that stores 2 variables, for example: first and last name.\n",
        "\n"
      ]
    },
    {
      "cell_type": "code",
      "metadata": {
        "id": "4TtK04luootX"
      },
      "source": [
        "Information= {'first_name': 'Sanaria', 'last_name' : 'Mky'}"
      ],
      "execution_count": 29,
      "outputs": []
    },
    {
      "cell_type": "markdown",
      "metadata": {
        "id": "uQ6XjGxfpinx"
      },
      "source": [
        "2-Print out those variables stored in your previous dictionary. \n",
        "\n"
      ]
    },
    {
      "cell_type": "code",
      "metadata": {
        "colab": {
          "base_uri": "https://localhost:8080/"
        },
        "id": "dh7lQeu0pl0g",
        "outputId": "9e8cb0d9-6b23-4e1c-d8ba-9fd7585c8261"
      },
      "source": [
        "print(Information['first_name'])\n",
        "print(Information['last_name'])"
      ],
      "execution_count": 6,
      "outputs": [
        {
          "output_type": "stream",
          "text": [
            "Sanaria\n",
            "Mky\n"
          ],
          "name": "stdout"
        }
      ]
    },
    {
      "cell_type": "markdown",
      "metadata": {
        "id": "5Wffc0M5qz_V"
      },
      "source": [
        "3-Add a message to those variables on printing: for example: “Hello, firstname lastname!”"
      ]
    },
    {
      "cell_type": "code",
      "metadata": {
        "colab": {
          "base_uri": "https://localhost:8080/"
        },
        "id": "59o7kjCqq78y",
        "outputId": "40a05051-24bd-4243-fd39-0dc2a3439450"
      },
      "source": [
        "Information_1 = Information['first_name']\n",
        "Information_2 = Information['last_name']\n",
        "print(\"Hello, \" + Information_1 + \" \" + Information_2)"
      ],
      "execution_count": 16,
      "outputs": [
        {
          "output_type": "stream",
          "text": [
            "Hello, Sanaria Mky\n"
          ],
          "name": "stdout"
        }
      ]
    },
    {
      "cell_type": "markdown",
      "metadata": {
        "id": "ZNHLrUX5rz8d"
      },
      "source": [
        "4- \n",
        "Create a dictionary that holds 2 key: value pairs:\n",
        "Look through your dictionary and print each pair,\n"
      ]
    },
    {
      "cell_type": "code",
      "metadata": {
        "colab": {
          "base_uri": "https://localhost:8080/"
        },
        "id": "63PQQkP_r7JJ",
        "outputId": "7ffc0e7a-e14b-49e0-f6e8-81a3d6004431"
      },
      "source": [
        "Information_1 = {}\n",
        "Information_1['first_name'] = 'Sanaria'\n",
        "Information_1['last_name'] = 'Mky'\n",
        "print(Information_1)"
      ],
      "execution_count": 17,
      "outputs": [
        {
          "output_type": "stream",
          "text": [
            "{'first_name': 'Sanaria', 'last_name': 'Mky'}\n"
          ],
          "name": "stdout"
        }
      ]
    },
    {
      "cell_type": "markdown",
      "metadata": {
        "id": "ZDpPMieQuZ26"
      },
      "source": [
        "5-Create a nested dictionary containing three dictionaries – these dictionaries could be anything (favorite pets, travel locations, etc.)\n",
        "Loop through the dictionaries and print a message for each.\n"
      ]
    },
    {
      "cell_type": "code",
      "metadata": {
        "colab": {
          "base_uri": "https://localhost:8080/"
        },
        "id": "l8uIJcIWInZ5",
        "outputId": "d1202182-6d5e-44d0-f095-a378dc04c04d"
      },
      "source": [
        "dictionary = {'color': 'red', 'fruit': 'banana', 'pets': 'bird'}\n",
        "for dict in dictionary.keys():\n",
        "  print(dict.title())\n",
        "  if dict in dictionary:\n",
        "    print(\"my favorite \" + dict.title() + \" is \" + dictionary [dict])"
      ],
      "execution_count": 28,
      "outputs": [
        {
          "output_type": "stream",
          "text": [
            "Color\n",
            "my favorite Color is red\n",
            "Fruit\n",
            "my favorite Fruit is banana\n",
            "Pets\n",
            "my favorite Pets is bird\n"
          ],
          "name": "stdout"
        }
      ]
    }
  ]
}