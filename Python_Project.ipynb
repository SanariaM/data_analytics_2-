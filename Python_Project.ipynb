{
  "nbformat": 4,
  "nbformat_minor": 0,
  "metadata": {
    "colab": {
      "name": "Python Project",
      "provenance": [],
      "collapsed_sections": [],
      "authorship_tag": "ABX9TyNqamzgI6Aqo3lpSgCqD/Hm",
      "include_colab_link": true
    },
    "kernelspec": {
      "name": "python3",
      "display_name": "Python 3"
    },
    "language_info": {
      "name": "python"
    }
  },
  "cells": [
    {
      "cell_type": "markdown",
      "metadata": {
        "id": "view-in-github",
        "colab_type": "text"
      },
      "source": [
        "<a href=\"https://colab.research.google.com/github/SanariaM/data_analytics_2-/blob/main/Python_Project.ipynb\" target=\"_parent\"><img src=\"https://colab.research.google.com/assets/colab-badge.svg\" alt=\"Open In Colab\"/></a>"
      ]
    },
    {
      "cell_type": "code",
      "metadata": {
        "id": "PezCQ8zfDB-W"
      },
      "source": [
        "Python Project: \n",
        "\n",
        "Make a two-player Rock-Paper-Scissors game. (Hint: Ask for player plays (using input), compare them, print out a message of congratulations to the winner, and ask if the players want to start a new game)\n",
        "Remember the rules:\n",
        "Rock beats scissors\n",
        "Scissors beats paper\n",
        "Paper beats rock\n"
      ],
      "execution_count": null,
      "outputs": []
    },
    {
      "cell_type": "code",
      "metadata": {
        "id": "Mj2uSwqyDEyw",
        "colab": {
          "base_uri": "https://localhost:8080/"
        },
        "outputId": "7c815b7f-6e7b-40b6-9df2-6a10d2b18c43"
      },
      "source": [
        "import sys\n",
        "player_1 = input(\"What's your name?\")\n",
        "player_2 = input(\"what's your name?\")\n",
        "player_1_question = input(\"do yo want to choose rock, paper or scissors?\")\n",
        "player_2_question = input(\"do you want to choose rock, paper or scissors?\")\n",
        "\n",
        "def compare(player_1, player_2):\n",
        "    if player_1 == player_2:\n",
        "        return(\"It's a tie!\")\n",
        "    elif player_1 == 'rock':\n",
        "        if player_2 == 'scissors':\n",
        "            return(\"congratulations rock wins!\")\n",
        "        else:\n",
        "            return(\"congratulations paper wins!\")\n",
        "    elif player_1 == 'scissors':\n",
        "        if player_2 == 'paper':\n",
        "            return(\"congratulations scissors win!\")\n",
        "        else:\n",
        "            return(\"Rock wins!\")\n",
        "    elif player_1 == 'paper':\n",
        "        if player_2 == 'rock':\n",
        "            return(\"congratulations paper wins!\")\n",
        "        else:\n",
        "            return(\"congratulations scissors win!\")\n",
        "    else:\n",
        "        return(\"Invalid input! You have not entered rock, paper or scissors, try again.\")\n",
        "        sys.exit()\n",
        "\n",
        "print(compare(player_1_question, player_2_question))"
      ],
      "execution_count": 5,
      "outputs": [
        {
          "output_type": "stream",
          "text": [
            "What's your name?Sanaria\n",
            "what's your name?Maryam\n",
            "do yo want to choose rock, paper or scissors?rock\n",
            "do you want to choose rock, paper or scissors?paper\n",
            "congratulations paper wins!\n"
          ],
          "name": "stdout"
        }
      ]
    },
    {
      "cell_type": "markdown",
      "metadata": {
        "id": "54qp4OArDCx_"
      },
      "source": [
        ""
      ]
    }
  ]
}