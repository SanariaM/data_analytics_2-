{
  "nbformat": 4,
  "nbformat_minor": 0,
  "metadata": {
    "colab": {
      "name": "Unit2_L2",
      "provenance": [],
      "collapsed_sections": [],
      "authorship_tag": "ABX9TyML5VLWs6DHcDMtOs+zBAu6",
      "include_colab_link": true
    },
    "kernelspec": {
      "name": "python3",
      "display_name": "Python 3"
    },
    "language_info": {
      "name": "python"
    }
  },
  "cells": [
    {
      "cell_type": "markdown",
      "metadata": {
        "id": "view-in-github",
        "colab_type": "text"
      },
      "source": [
        "<a href=\"https://colab.research.google.com/github/SanariaM/data_analytics_2-/blob/main/Unit2_L2.ipynb\" target=\"_parent\"><img src=\"https://colab.research.google.com/assets/colab-badge.svg\" alt=\"Open In Colab\"/></a>"
      ]
    },
    {
      "cell_type": "code",
      "metadata": {
        "id": "QigZjGZh8IJ1"
      },
      "source": [
        ""
      ],
      "execution_count": null,
      "outputs": []
    },
    {
      "cell_type": "markdown",
      "metadata": {
        "id": "61td0msdFn5t"
      },
      "source": [
        "1- What is Python and why is it useful?\n"
      ]
    },
    {
      "cell_type": "markdown",
      "metadata": {
        "id": "nqLxS1d-HrSN"
      },
      "source": [
        "Python's 'philosophy' is that code should be easy to read and understand.\n"
      ]
    },
    {
      "cell_type": "markdown",
      "metadata": {
        "id": "QI5Pq4DvFzu9"
      },
      "source": [
        "Python is a\n",
        "programming\n",
        "language, created\n",
        "by Guido van\n",
        "Rossum – first\n",
        "released in 1991."
      ]
    },
    {
      "cell_type": "markdown",
      "metadata": {
        "id": "WMP-cGmZGlGq"
      },
      "source": [
        "Python is open-sourced and free to use!\n"
      ]
    },
    {
      "cell_type": "markdown",
      "metadata": {
        "id": "XZWjD4VkHBn9"
      },
      "source": [
        "Python has libraries that make it much earier to perform data analytics and visulizations."
      ]
    },
    {
      "cell_type": "markdown",
      "metadata": {
        "id": "8uv2Iq6AKORE"
      },
      "source": [
        "2- Are the following variable names allowed in python?\n",
        "\n",
        "1- 1_message >>>> not allowed because variable can not start with a number.\n",
        "\n",
        "2- Greeting_message >>>> allowed\n",
        "\n",
        "3- Message_1>>>> allowed\n",
        "\n",
        "4- First name >>>>  spaces are not allowed\n",
        "\n",
        "5- Full_name>>>> allowed \n"
      ]
    },
    {
      "cell_type": "markdown",
      "metadata": {
        "id": "Zm4AvBGfMPCl"
      },
      "source": [
        "3- Create a variable that holds the string “hello there!”\n"
      ]
    },
    {
      "cell_type": "code",
      "metadata": {
        "colab": {
          "base_uri": "https://localhost:8080/"
        },
        "id": "pfo8MuPBMvk8",
        "outputId": "bb04a8c2-70f0-4d64-bb02-ce9398f073fb"
      },
      "source": [
        "Greeting_message = \"hello there!\"\n",
        "print(Greeting_message)"
      ],
      "execution_count": null,
      "outputs": [
        {
          "output_type": "stream",
          "text": [
            "hello there!\n"
          ],
          "name": "stdout"
        }
      ]
    },
    {
      "cell_type": "markdown",
      "metadata": {
        "id": "GxKBUeKNNzQV"
      },
      "source": [
        "4- Create a variable for first name, last name and an email extension.  Concatenating all three together to form an email address.  For example: firstnamelastname@gmail.com\n"
      ]
    },
    {
      "cell_type": "code",
      "metadata": {
        "colab": {
          "base_uri": "https://localhost:8080/"
        },
        "id": "lkUt9Vt2N2m3",
        "outputId": "b182b2da-8199-4ec4-9b40-4162c7243094"
      },
      "source": [
        "first_name = \"sanaria\"\n",
        "last_name = \"mky\"\n",
        "email_address = first_name + last_name + \"@gmail.com\"\n",
        "print(email_address)\n"
      ],
      "execution_count": null,
      "outputs": [
        {
          "output_type": "stream",
          "text": [
            "sanariamky@gmail.com\n"
          ],
          "name": "stdout"
        }
      ]
    },
    {
      "cell_type": "code",
      "metadata": {
        "id": "c0qQDzebP3Uy"
      },
      "source": [
        ""
      ],
      "execution_count": null,
      "outputs": []
    },
    {
      "cell_type": "markdown",
      "metadata": {
        "id": "07eVl_KhP5sf"
      },
      "source": [
        "5- Store someone you know name in a variable called name.  Print their name in lower and uppercase using a method"
      ]
    },
    {
      "cell_type": "code",
      "metadata": {
        "colab": {
          "base_uri": "https://localhost:8080/"
        },
        "id": "PU0S6J9QP-qh",
        "outputId": "1cdb3061-7535-40f0-a6a5-f9966401517e"
      },
      "source": [
        "name = \"lana\"\n",
        "print(name.upper())\n",
        "print(name.lower())"
      ],
      "execution_count": null,
      "outputs": [
        {
          "output_type": "stream",
          "text": [
            "LANA\n",
            "lana\n"
          ],
          "name": "stdout"
        }
      ]
    },
    {
      "cell_type": "markdown",
      "metadata": {
        "id": "AbyH8KHEQhxb"
      },
      "source": [
        "6- Using a variable, ask your friend if they want to hang out on the 15th of the month.  For example, “Do you want to hang out on the 15th of this month?”  You should have to convert the number to a string.\n"
      ]
    },
    {
      "cell_type": "code",
      "metadata": {
        "colab": {
          "base_uri": "https://localhost:8080/"
        },
        "id": "Kug-wyNsQjgt",
        "outputId": "c15a9cc6-e9b0-46d9-fb39-831aa76c310c"
      },
      "source": [
        "date= 15\n",
        "message = \"Do you want to hang out on \" + str(date) + \"th of this month?\"\n",
        "print(message)"
      ],
      "execution_count": null,
      "outputs": [
        {
          "output_type": "stream",
          "text": [
            "Do you want to hang out on 15th of this month?\n"
          ],
          "name": "stdout"
        }
      ]
    }
  ]
}