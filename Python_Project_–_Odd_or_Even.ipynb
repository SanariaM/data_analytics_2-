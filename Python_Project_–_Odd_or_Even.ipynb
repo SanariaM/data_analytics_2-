{
  "nbformat": 4,
  "nbformat_minor": 0,
  "metadata": {
    "colab": {
      "name": "Python Project – Odd or Even",
      "provenance": [],
      "collapsed_sections": [],
      "authorship_tag": "ABX9TyNSokMStamzANgZaQ9DRI2g",
      "include_colab_link": true
    },
    "kernelspec": {
      "name": "python3",
      "display_name": "Python 3"
    },
    "language_info": {
      "name": "python"
    }
  },
  "cells": [
    {
      "cell_type": "markdown",
      "metadata": {
        "id": "view-in-github",
        "colab_type": "text"
      },
      "source": [
        "<a href=\"https://colab.research.google.com/github/SanariaM/data_analytics_2-/blob/main/Python_Project_%E2%80%93_Odd_or_Even.ipynb\" target=\"_parent\"><img src=\"https://colab.research.google.com/assets/colab-badge.svg\" alt=\"Open In Colab\"/></a>"
      ]
    },
    {
      "cell_type": "markdown",
      "metadata": {
        "id": "I7tD_9E2n0B6"
      },
      "source": [
        "Python Project – Odd or Even\n",
        "Ask the user for a number. Depending on whether the number is even or odd, print out an appropriate message to the user. Hint: how does an even / odd number react differently when divided by 2?\n",
        "Extras:\n",
        "If the number is a multiple of 4, print out a different message.\n",
        "Ask the user for two numbers: one number to check (call it num) and one number to divide by (check). If check divides evenly into num, tell that to the user. If not, print a different appropriate message.\n",
        "\n"
      ]
    },
    {
      "cell_type": "code",
      "metadata": {
        "id": "ELg2amyMoEqC",
        "colab": {
          "base_uri": "https://localhost:8080/"
        },
        "outputId": "c8dd01ee-08e7-4937-bbc5-8ed2a3662d0d"
      },
      "source": [
        "number = int(input(\"choose a number to check: \"))\n",
        "test = int(input(\"choose a number to divide by: \"))\n",
        "\n",
        "if number % 4 == 0:\n",
        "    print(number, \"is a multiple of 4\")\n",
        "elif number % 2 == 0:\n",
        "    print(number, \"is an even number\")\n",
        "else:\n",
        "    print(number, \"is an odd number\")\n",
        "\n",
        "if number % test == 0:\n",
        "    print(number, \"divides evenly by\", test)\n",
        "else:\n",
        "    print(number, \"does not divide evenly by\", test)"
      ],
      "execution_count": 7,
      "outputs": [
        {
          "output_type": "stream",
          "text": [
            "choose a number to check: 10\n",
            "choose a number to divide by: 2\n",
            "10 is an even number\n",
            "10 divides evenly by 2\n"
          ],
          "name": "stdout"
        }
      ]
    }
  ]
}