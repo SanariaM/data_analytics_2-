{
  "nbformat": 4,
  "nbformat_minor": 0,
  "metadata": {
    "colab": {
      "name": "salaries-Unit3",
      "provenance": [],
      "collapsed_sections": [],
      "authorship_tag": "ABX9TyO5RO7EyrX0OnjJaHF+6Sip",
      "include_colab_link": true
    },
    "kernelspec": {
      "name": "python3",
      "display_name": "Python 3"
    },
    "language_info": {
      "name": "python"
    }
  },
  "cells": [
    {
      "cell_type": "markdown",
      "metadata": {
        "id": "view-in-github",
        "colab_type": "text"
      },
      "source": [
        "<a href=\"https://colab.research.google.com/github/SanariaM/data_analytics_2-/blob/main/salaries_Unit3.ipynb\" target=\"_parent\"><img src=\"https://colab.research.google.com/assets/colab-badge.svg\" alt=\"Open In Colab\"/></a>"
      ]
    },
    {
      "cell_type": "code",
      "metadata": {
        "id": "RFtvanN0us8Y"
      },
      "source": [
        "import pandas as pd\n",
        "import numpy as np\n",
        "import matplotlib.pyplot as plt\n",
        "%matplotlib inline"
      ],
      "execution_count": 64,
      "outputs": []
    },
    {
      "cell_type": "code",
      "metadata": {
        "id": "1w07mFTzwcN3"
      },
      "source": [
        "Salaries_df = pd.read_csv('https://raw.githubusercontent.com/CunyLaguardiaDataAnalytics/datasets/master/Salaries.csv')"
      ],
      "execution_count": 3,
      "outputs": []
    },
    {
      "cell_type": "code",
      "metadata": {
        "id": "rO7PbDL2yfEd",
        "colab": {
          "base_uri": "https://localhost:8080/"
        },
        "outputId": "43a2f314-d201-46bc-fcf7-27c48540dd6b"
      },
      "source": [
        "type(Salaries_df)"
      ],
      "execution_count": 4,
      "outputs": [
        {
          "output_type": "execute_result",
          "data": {
            "text/plain": [
              "pandas.core.frame.DataFrame"
            ]
          },
          "metadata": {
            "tags": []
          },
          "execution_count": 4
        }
      ]
    },
    {
      "cell_type": "code",
      "metadata": {
        "colab": {
          "base_uri": "https://localhost:8080/"
        },
        "id": "DzPLQJ_fyUM5",
        "outputId": "723e326d-d403-42c9-81b6-8bac456d151e"
      },
      "source": [
        "Salaries_df.shape"
      ],
      "execution_count": 5,
      "outputs": [
        {
          "output_type": "execute_result",
          "data": {
            "text/plain": [
              "(397, 7)"
            ]
          },
          "metadata": {
            "tags": []
          },
          "execution_count": 5
        }
      ]
    },
    {
      "cell_type": "code",
      "metadata": {
        "colab": {
          "base_uri": "https://localhost:8080/",
          "height": 204
        },
        "id": "jbKkGwkRyeg1",
        "outputId": "72bfb7ec-4542-4478-be71-100dcb18ae59"
      },
      "source": [
        "Salaries_df.head()"
      ],
      "execution_count": 6,
      "outputs": [
        {
          "output_type": "execute_result",
          "data": {
            "text/html": [
              "<div>\n",
              "<style scoped>\n",
              "    .dataframe tbody tr th:only-of-type {\n",
              "        vertical-align: middle;\n",
              "    }\n",
              "\n",
              "    .dataframe tbody tr th {\n",
              "        vertical-align: top;\n",
              "    }\n",
              "\n",
              "    .dataframe thead th {\n",
              "        text-align: right;\n",
              "    }\n",
              "</style>\n",
              "<table border=\"1\" class=\"dataframe\">\n",
              "  <thead>\n",
              "    <tr style=\"text-align: right;\">\n",
              "      <th></th>\n",
              "      <th>Unnamed: 0</th>\n",
              "      <th>rank</th>\n",
              "      <th>discipline</th>\n",
              "      <th>yrs.since.phd</th>\n",
              "      <th>yrs.service</th>\n",
              "      <th>sex</th>\n",
              "      <th>salary</th>\n",
              "    </tr>\n",
              "  </thead>\n",
              "  <tbody>\n",
              "    <tr>\n",
              "      <th>0</th>\n",
              "      <td>1</td>\n",
              "      <td>Prof</td>\n",
              "      <td>B</td>\n",
              "      <td>19</td>\n",
              "      <td>18</td>\n",
              "      <td>Male</td>\n",
              "      <td>139750</td>\n",
              "    </tr>\n",
              "    <tr>\n",
              "      <th>1</th>\n",
              "      <td>2</td>\n",
              "      <td>Prof</td>\n",
              "      <td>B</td>\n",
              "      <td>20</td>\n",
              "      <td>16</td>\n",
              "      <td>Male</td>\n",
              "      <td>173200</td>\n",
              "    </tr>\n",
              "    <tr>\n",
              "      <th>2</th>\n",
              "      <td>3</td>\n",
              "      <td>AsstProf</td>\n",
              "      <td>B</td>\n",
              "      <td>4</td>\n",
              "      <td>3</td>\n",
              "      <td>Male</td>\n",
              "      <td>79750</td>\n",
              "    </tr>\n",
              "    <tr>\n",
              "      <th>3</th>\n",
              "      <td>4</td>\n",
              "      <td>Prof</td>\n",
              "      <td>B</td>\n",
              "      <td>45</td>\n",
              "      <td>39</td>\n",
              "      <td>Male</td>\n",
              "      <td>115000</td>\n",
              "    </tr>\n",
              "    <tr>\n",
              "      <th>4</th>\n",
              "      <td>5</td>\n",
              "      <td>Prof</td>\n",
              "      <td>B</td>\n",
              "      <td>40</td>\n",
              "      <td>41</td>\n",
              "      <td>Male</td>\n",
              "      <td>141500</td>\n",
              "    </tr>\n",
              "  </tbody>\n",
              "</table>\n",
              "</div>"
            ],
            "text/plain": [
              "   Unnamed: 0      rank discipline  yrs.since.phd  yrs.service   sex  salary\n",
              "0           1      Prof          B             19           18  Male  139750\n",
              "1           2      Prof          B             20           16  Male  173200\n",
              "2           3  AsstProf          B              4            3  Male   79750\n",
              "3           4      Prof          B             45           39  Male  115000\n",
              "4           5      Prof          B             40           41  Male  141500"
            ]
          },
          "metadata": {
            "tags": []
          },
          "execution_count": 6
        }
      ]
    },
    {
      "cell_type": "code",
      "metadata": {
        "colab": {
          "base_uri": "https://localhost:8080/",
          "height": 204
        },
        "id": "rE8caDn6yoy_",
        "outputId": "c4671564-8e32-486c-ae4e-7b7b7b75bff9"
      },
      "source": [
        "Salaries_df.tail()"
      ],
      "execution_count": 7,
      "outputs": [
        {
          "output_type": "execute_result",
          "data": {
            "text/html": [
              "<div>\n",
              "<style scoped>\n",
              "    .dataframe tbody tr th:only-of-type {\n",
              "        vertical-align: middle;\n",
              "    }\n",
              "\n",
              "    .dataframe tbody tr th {\n",
              "        vertical-align: top;\n",
              "    }\n",
              "\n",
              "    .dataframe thead th {\n",
              "        text-align: right;\n",
              "    }\n",
              "</style>\n",
              "<table border=\"1\" class=\"dataframe\">\n",
              "  <thead>\n",
              "    <tr style=\"text-align: right;\">\n",
              "      <th></th>\n",
              "      <th>Unnamed: 0</th>\n",
              "      <th>rank</th>\n",
              "      <th>discipline</th>\n",
              "      <th>yrs.since.phd</th>\n",
              "      <th>yrs.service</th>\n",
              "      <th>sex</th>\n",
              "      <th>salary</th>\n",
              "    </tr>\n",
              "  </thead>\n",
              "  <tbody>\n",
              "    <tr>\n",
              "      <th>392</th>\n",
              "      <td>393</td>\n",
              "      <td>Prof</td>\n",
              "      <td>A</td>\n",
              "      <td>33</td>\n",
              "      <td>30</td>\n",
              "      <td>Male</td>\n",
              "      <td>103106</td>\n",
              "    </tr>\n",
              "    <tr>\n",
              "      <th>393</th>\n",
              "      <td>394</td>\n",
              "      <td>Prof</td>\n",
              "      <td>A</td>\n",
              "      <td>31</td>\n",
              "      <td>19</td>\n",
              "      <td>Male</td>\n",
              "      <td>150564</td>\n",
              "    </tr>\n",
              "    <tr>\n",
              "      <th>394</th>\n",
              "      <td>395</td>\n",
              "      <td>Prof</td>\n",
              "      <td>A</td>\n",
              "      <td>42</td>\n",
              "      <td>25</td>\n",
              "      <td>Male</td>\n",
              "      <td>101738</td>\n",
              "    </tr>\n",
              "    <tr>\n",
              "      <th>395</th>\n",
              "      <td>396</td>\n",
              "      <td>Prof</td>\n",
              "      <td>A</td>\n",
              "      <td>25</td>\n",
              "      <td>15</td>\n",
              "      <td>Male</td>\n",
              "      <td>95329</td>\n",
              "    </tr>\n",
              "    <tr>\n",
              "      <th>396</th>\n",
              "      <td>397</td>\n",
              "      <td>AsstProf</td>\n",
              "      <td>A</td>\n",
              "      <td>8</td>\n",
              "      <td>4</td>\n",
              "      <td>Male</td>\n",
              "      <td>81035</td>\n",
              "    </tr>\n",
              "  </tbody>\n",
              "</table>\n",
              "</div>"
            ],
            "text/plain": [
              "     Unnamed: 0      rank discipline  yrs.since.phd  yrs.service   sex  salary\n",
              "392         393      Prof          A             33           30  Male  103106\n",
              "393         394      Prof          A             31           19  Male  150564\n",
              "394         395      Prof          A             42           25  Male  101738\n",
              "395         396      Prof          A             25           15  Male   95329\n",
              "396         397  AsstProf          A              8            4  Male   81035"
            ]
          },
          "metadata": {
            "tags": []
          },
          "execution_count": 7
        }
      ]
    },
    {
      "cell_type": "code",
      "metadata": {
        "colab": {
          "base_uri": "https://localhost:8080/",
          "height": 297
        },
        "id": "Ct9mJJKtyzNC",
        "outputId": "a4169115-e537-40b0-839c-c7c7b636a009"
      },
      "source": [
        "Salaries_df.describe()"
      ],
      "execution_count": 8,
      "outputs": [
        {
          "output_type": "execute_result",
          "data": {
            "text/html": [
              "<div>\n",
              "<style scoped>\n",
              "    .dataframe tbody tr th:only-of-type {\n",
              "        vertical-align: middle;\n",
              "    }\n",
              "\n",
              "    .dataframe tbody tr th {\n",
              "        vertical-align: top;\n",
              "    }\n",
              "\n",
              "    .dataframe thead th {\n",
              "        text-align: right;\n",
              "    }\n",
              "</style>\n",
              "<table border=\"1\" class=\"dataframe\">\n",
              "  <thead>\n",
              "    <tr style=\"text-align: right;\">\n",
              "      <th></th>\n",
              "      <th>Unnamed: 0</th>\n",
              "      <th>yrs.since.phd</th>\n",
              "      <th>yrs.service</th>\n",
              "      <th>salary</th>\n",
              "    </tr>\n",
              "  </thead>\n",
              "  <tbody>\n",
              "    <tr>\n",
              "      <th>count</th>\n",
              "      <td>397.000000</td>\n",
              "      <td>397.000000</td>\n",
              "      <td>397.000000</td>\n",
              "      <td>397.000000</td>\n",
              "    </tr>\n",
              "    <tr>\n",
              "      <th>mean</th>\n",
              "      <td>199.000000</td>\n",
              "      <td>22.314861</td>\n",
              "      <td>17.614610</td>\n",
              "      <td>113706.458438</td>\n",
              "    </tr>\n",
              "    <tr>\n",
              "      <th>std</th>\n",
              "      <td>114.748275</td>\n",
              "      <td>12.887003</td>\n",
              "      <td>13.006024</td>\n",
              "      <td>30289.038695</td>\n",
              "    </tr>\n",
              "    <tr>\n",
              "      <th>min</th>\n",
              "      <td>1.000000</td>\n",
              "      <td>1.000000</td>\n",
              "      <td>0.000000</td>\n",
              "      <td>57800.000000</td>\n",
              "    </tr>\n",
              "    <tr>\n",
              "      <th>25%</th>\n",
              "      <td>100.000000</td>\n",
              "      <td>12.000000</td>\n",
              "      <td>7.000000</td>\n",
              "      <td>91000.000000</td>\n",
              "    </tr>\n",
              "    <tr>\n",
              "      <th>50%</th>\n",
              "      <td>199.000000</td>\n",
              "      <td>21.000000</td>\n",
              "      <td>16.000000</td>\n",
              "      <td>107300.000000</td>\n",
              "    </tr>\n",
              "    <tr>\n",
              "      <th>75%</th>\n",
              "      <td>298.000000</td>\n",
              "      <td>32.000000</td>\n",
              "      <td>27.000000</td>\n",
              "      <td>134185.000000</td>\n",
              "    </tr>\n",
              "    <tr>\n",
              "      <th>max</th>\n",
              "      <td>397.000000</td>\n",
              "      <td>56.000000</td>\n",
              "      <td>60.000000</td>\n",
              "      <td>231545.000000</td>\n",
              "    </tr>\n",
              "  </tbody>\n",
              "</table>\n",
              "</div>"
            ],
            "text/plain": [
              "       Unnamed: 0  yrs.since.phd  yrs.service         salary\n",
              "count  397.000000     397.000000   397.000000     397.000000\n",
              "mean   199.000000      22.314861    17.614610  113706.458438\n",
              "std    114.748275      12.887003    13.006024   30289.038695\n",
              "min      1.000000       1.000000     0.000000   57800.000000\n",
              "25%    100.000000      12.000000     7.000000   91000.000000\n",
              "50%    199.000000      21.000000    16.000000  107300.000000\n",
              "75%    298.000000      32.000000    27.000000  134185.000000\n",
              "max    397.000000      56.000000    60.000000  231545.000000"
            ]
          },
          "metadata": {
            "tags": []
          },
          "execution_count": 8
        }
      ]
    },
    {
      "cell_type": "markdown",
      "metadata": {
        "id": "ApggenXiy9Gl"
      },
      "source": [
        "## **Mean/median of all salaries**"
      ]
    },
    {
      "cell_type": "code",
      "metadata": {
        "colab": {
          "base_uri": "https://localhost:8080/"
        },
        "id": "rzpmtcb0yuv7",
        "outputId": "90f9e352-3f8c-46e1-8e55-ba72362252b2"
      },
      "source": [
        "print(Salaries_df)"
      ],
      "execution_count": 9,
      "outputs": [
        {
          "output_type": "stream",
          "text": [
            "     Unnamed: 0      rank discipline  yrs.since.phd  yrs.service   sex  salary\n",
            "0             1      Prof          B             19           18  Male  139750\n",
            "1             2      Prof          B             20           16  Male  173200\n",
            "2             3  AsstProf          B              4            3  Male   79750\n",
            "3             4      Prof          B             45           39  Male  115000\n",
            "4             5      Prof          B             40           41  Male  141500\n",
            "..          ...       ...        ...            ...          ...   ...     ...\n",
            "392         393      Prof          A             33           30  Male  103106\n",
            "393         394      Prof          A             31           19  Male  150564\n",
            "394         395      Prof          A             42           25  Male  101738\n",
            "395         396      Prof          A             25           15  Male   95329\n",
            "396         397  AsstProf          A              8            4  Male   81035\n",
            "\n",
            "[397 rows x 7 columns]\n"
          ],
          "name": "stdout"
        }
      ]
    },
    {
      "cell_type": "code",
      "metadata": {
        "colab": {
          "base_uri": "https://localhost:8080/"
        },
        "id": "iswVHPM2y1wA",
        "outputId": "23e96dcd-17ac-4a74-ec89-d7ab77326a94"
      },
      "source": [
        "Salaries_df.columns"
      ],
      "execution_count": 10,
      "outputs": [
        {
          "output_type": "execute_result",
          "data": {
            "text/plain": [
              "Index(['Unnamed: 0', 'rank', 'discipline', 'yrs.since.phd', 'yrs.service',\n",
              "       'sex', 'salary'],\n",
              "      dtype='object')"
            ]
          },
          "metadata": {
            "tags": []
          },
          "execution_count": 10
        }
      ]
    },
    {
      "cell_type": "code",
      "metadata": {
        "colab": {
          "base_uri": "https://localhost:8080/"
        },
        "id": "2OSN14M4zpZx",
        "outputId": "f612e002-ae46-4d4d-8ea5-667312b5354b"
      },
      "source": [
        "Salaries_df.mean()"
      ],
      "execution_count": 11,
      "outputs": [
        {
          "output_type": "execute_result",
          "data": {
            "text/plain": [
              "Unnamed: 0          199.000000\n",
              "yrs.since.phd        22.314861\n",
              "yrs.service          17.614610\n",
              "salary           113706.458438\n",
              "dtype: float64"
            ]
          },
          "metadata": {
            "tags": []
          },
          "execution_count": 11
        }
      ]
    },
    {
      "cell_type": "code",
      "metadata": {
        "colab": {
          "base_uri": "https://localhost:8080/"
        },
        "id": "8q5VOe9R0E6S",
        "outputId": "c797a2bc-061b-4b1c-ea08-5a8396d37da7"
      },
      "source": [
        "Salaries_df.median()"
      ],
      "execution_count": 12,
      "outputs": [
        {
          "output_type": "execute_result",
          "data": {
            "text/plain": [
              "Unnamed: 0          199.0\n",
              "yrs.since.phd        21.0\n",
              "yrs.service          16.0\n",
              "salary           107300.0\n",
              "dtype: float64"
            ]
          },
          "metadata": {
            "tags": []
          },
          "execution_count": 12
        }
      ]
    },
    {
      "cell_type": "code",
      "metadata": {
        "colab": {
          "base_uri": "https://localhost:8080/"
        },
        "id": "WvIP1sLY0ekF",
        "outputId": "8cc63ac9-7bc1-4eed-d86b-bd974ba36e89"
      },
      "source": [
        "Salaries_df.groupby('sex').transform('median')\n",
        "print(Salaries_df)"
      ],
      "execution_count": 13,
      "outputs": [
        {
          "output_type": "stream",
          "text": [
            "     Unnamed: 0      rank discipline  yrs.since.phd  yrs.service   sex  salary\n",
            "0             1      Prof          B             19           18  Male  139750\n",
            "1             2      Prof          B             20           16  Male  173200\n",
            "2             3  AsstProf          B              4            3  Male   79750\n",
            "3             4      Prof          B             45           39  Male  115000\n",
            "4             5      Prof          B             40           41  Male  141500\n",
            "..          ...       ...        ...            ...          ...   ...     ...\n",
            "392         393      Prof          A             33           30  Male  103106\n",
            "393         394      Prof          A             31           19  Male  150564\n",
            "394         395      Prof          A             42           25  Male  101738\n",
            "395         396      Prof          A             25           15  Male   95329\n",
            "396         397  AsstProf          A              8            4  Male   81035\n",
            "\n",
            "[397 rows x 7 columns]\n"
          ],
          "name": "stdout"
        }
      ]
    },
    {
      "cell_type": "markdown",
      "metadata": {
        "id": "svq3cI9Uzgen"
      },
      "source": [
        "**Median salary between gender and/or rank(title) Etc...**\n",
        "\n",
        "Making a new Data Frame that only has the columns 'sex' and 'salary'"
      ]
    },
    {
      "cell_type": "code",
      "metadata": {
        "colab": {
          "base_uri": "https://localhost:8080/"
        },
        "id": "lZUPX3uL44V4",
        "outputId": "9e071363-0bf8-4990-81aa-c3673ccacced"
      },
      "source": [
        "\n",
        "print(Salaries_df.groupby([\"sex\",\"rank\"]).median())"
      ],
      "execution_count": 14,
      "outputs": [
        {
          "output_type": "stream",
          "text": [
            "                  Unnamed: 0  yrs.since.phd  yrs.service    salary\n",
            "sex    rank                                                       \n",
            "Female AssocProf       170.5           13.0          9.5   90556.5\n",
            "       AsstProf        128.0            5.0          3.0   77000.0\n",
            "       Prof            190.0           23.0         17.0  120257.5\n",
            "Male   AssocProf       172.0           11.5          8.0   95626.5\n",
            "       AsstProf        159.5            4.0          3.0   80182.0\n",
            "       Prof            223.0           28.0         22.0  123996.0\n"
          ],
          "name": "stdout"
        }
      ]
    },
    {
      "cell_type": "code",
      "metadata": {
        "colab": {
          "base_uri": "https://localhost:8080/"
        },
        "id": "jwucXJhdC43r",
        "outputId": "8ba792e0-7aee-488d-f182-684df5659494"
      },
      "source": [
        " data = {'sex': ['Female,Male']}\n",
        "print(Salaries_df.groupby([\"sex\",]).median())"
      ],
      "execution_count": 15,
      "outputs": [
        {
          "output_type": "stream",
          "text": [
            "        Unnamed: 0  yrs.since.phd  yrs.service    salary\n",
            "sex                                                     \n",
            "Female       149.0           17.0         10.0  103750.0\n",
            "Male         202.5           22.0         18.0  108043.0\n"
          ],
          "name": "stdout"
        }
      ]
    },
    {
      "cell_type": "code",
      "metadata": {
        "colab": {
          "base_uri": "https://localhost:8080/",
          "height": 204
        },
        "id": "IpYy529ZHyAp",
        "outputId": "1116a324-09c4-4535-ed40-0ebeb1dbd22b"
      },
      "source": [
        "new_df = Salaries_df[[\"sex\" , \"salary\"]]\n",
        "new_df.head()"
      ],
      "execution_count": 16,
      "outputs": [
        {
          "output_type": "execute_result",
          "data": {
            "text/html": [
              "<div>\n",
              "<style scoped>\n",
              "    .dataframe tbody tr th:only-of-type {\n",
              "        vertical-align: middle;\n",
              "    }\n",
              "\n",
              "    .dataframe tbody tr th {\n",
              "        vertical-align: top;\n",
              "    }\n",
              "\n",
              "    .dataframe thead th {\n",
              "        text-align: right;\n",
              "    }\n",
              "</style>\n",
              "<table border=\"1\" class=\"dataframe\">\n",
              "  <thead>\n",
              "    <tr style=\"text-align: right;\">\n",
              "      <th></th>\n",
              "      <th>sex</th>\n",
              "      <th>salary</th>\n",
              "    </tr>\n",
              "  </thead>\n",
              "  <tbody>\n",
              "    <tr>\n",
              "      <th>0</th>\n",
              "      <td>Male</td>\n",
              "      <td>139750</td>\n",
              "    </tr>\n",
              "    <tr>\n",
              "      <th>1</th>\n",
              "      <td>Male</td>\n",
              "      <td>173200</td>\n",
              "    </tr>\n",
              "    <tr>\n",
              "      <th>2</th>\n",
              "      <td>Male</td>\n",
              "      <td>79750</td>\n",
              "    </tr>\n",
              "    <tr>\n",
              "      <th>3</th>\n",
              "      <td>Male</td>\n",
              "      <td>115000</td>\n",
              "    </tr>\n",
              "    <tr>\n",
              "      <th>4</th>\n",
              "      <td>Male</td>\n",
              "      <td>141500</td>\n",
              "    </tr>\n",
              "  </tbody>\n",
              "</table>\n",
              "</div>"
            ],
            "text/plain": [
              "    sex  salary\n",
              "0  Male  139750\n",
              "1  Male  173200\n",
              "2  Male   79750\n",
              "3  Male  115000\n",
              "4  Male  141500"
            ]
          },
          "metadata": {
            "tags": []
          },
          "execution_count": 16
        }
      ]
    },
    {
      "cell_type": "code",
      "metadata": {
        "id": "YETWX3Ii6xaq"
      },
      "source": [
        "male_df= new_df[(new_df['sex'] == 'Male')]"
      ],
      "execution_count": 17,
      "outputs": []
    },
    {
      "cell_type": "code",
      "metadata": {
        "colab": {
          "base_uri": "https://localhost:8080/"
        },
        "id": "4ZdfOmLd7VuO",
        "outputId": "d38b13b5-bb3b-48c4-d250-ee04cec315e0"
      },
      "source": [
        "male_df['salary'].median()"
      ],
      "execution_count": 18,
      "outputs": [
        {
          "output_type": "execute_result",
          "data": {
            "text/plain": [
              "108043.0"
            ]
          },
          "metadata": {
            "tags": []
          },
          "execution_count": 18
        }
      ]
    },
    {
      "cell_type": "code",
      "metadata": {
        "id": "Nx7ZNyJS7eXo"
      },
      "source": [
        "female_df = new_df[(new_df['sex'] == 'Female')]"
      ],
      "execution_count": 19,
      "outputs": []
    },
    {
      "cell_type": "code",
      "metadata": {
        "colab": {
          "base_uri": "https://localhost:8080/"
        },
        "id": "ei8zr3b671Yt",
        "outputId": "b412c136-bef3-4af4-cd80-51e3cd143a69"
      },
      "source": [
        "female_df['salary'].median()"
      ],
      "execution_count": 20,
      "outputs": [
        {
          "output_type": "execute_result",
          "data": {
            "text/plain": [
              "103750.0"
            ]
          },
          "metadata": {
            "tags": []
          },
          "execution_count": 20
        }
      ]
    },
    {
      "cell_type": "code",
      "metadata": {
        "id": "tMTHcXjF3U1k"
      },
      "source": [
        "\n",
        "female_df = new_df[(new_df['sex'] == 'Female')]"
      ],
      "execution_count": 21,
      "outputs": []
    },
    {
      "cell_type": "code",
      "metadata": {
        "colab": {
          "base_uri": "https://localhost:8080/"
        },
        "id": "TlbR3Bd98wmz",
        "outputId": "a9ad0d5b-e760-4e97-b66d-0e6abe361c5f"
      },
      "source": [
        "female_df['salary'].mean()"
      ],
      "execution_count": 22,
      "outputs": [
        {
          "output_type": "execute_result",
          "data": {
            "text/plain": [
              "101002.41025641025"
            ]
          },
          "metadata": {
            "tags": []
          },
          "execution_count": 22
        }
      ]
    },
    {
      "cell_type": "code",
      "metadata": {
        "colab": {
          "base_uri": "https://localhost:8080/"
        },
        "id": "6It8vT0i83Dx",
        "outputId": "5c7dc2fa-412b-4dfc-d03b-6e4f1a29936d"
      },
      "source": [
        "male_df['salary'].mean()"
      ],
      "execution_count": 23,
      "outputs": [
        {
          "output_type": "execute_result",
          "data": {
            "text/plain": [
              "115090.41899441341"
            ]
          },
          "metadata": {
            "tags": []
          },
          "execution_count": 23
        }
      ]
    },
    {
      "cell_type": "code",
      "metadata": {
        "colab": {
          "base_uri": "https://localhost:8080/"
        },
        "id": "5Cui-V7V891l",
        "outputId": "dc8e09bf-79ec-491d-fe2a-91f4bc99bd70"
      },
      "source": [
        "diff = male_df['salary'].mean()-female_df['salary'].mean()\n",
        "print(diff)"
      ],
      "execution_count": 24,
      "outputs": [
        {
          "output_type": "stream",
          "text": [
            "14088.008738003162\n"
          ],
          "name": "stdout"
        }
      ]
    },
    {
      "cell_type": "markdown",
      "metadata": {
        "id": "Ft5pAsEIz69H"
      },
      "source": [
        "**Data Wrangling – perform some basic transformations on the data**"
      ]
    },
    {
      "cell_type": "markdown",
      "metadata": {
        "id": "_1kUp9Zmz_Bv"
      },
      "source": [
        "People who have 20 years of experience (Total: 157), (Mean Salary: 122,520.66)"
      ]
    },
    {
      "cell_type": "code",
      "metadata": {
        "id": "WygXxxfV0Sj2"
      },
      "source": [
        "experience_20 = Salaries_df[[\"yrs.service\",\"salary\"]]\n"
      ],
      "execution_count": 72,
      "outputs": []
    },
    {
      "cell_type": "code",
      "metadata": {
        "colab": {
          "base_uri": "https://localhost:8080/"
        },
        "id": "T_rhqzvY2rSL",
        "outputId": "e0011ef5-0763-4398-c06a-fe65d7b1b1e4"
      },
      "source": [
        "df= experience_20[experience_20[\"yrs.service\"]>=20]\n",
        "print(df.count().to_string())\n"
      ],
      "execution_count": 73,
      "outputs": [
        {
          "output_type": "stream",
          "text": [
            "yrs.service    157\n",
            "salary         157\n"
          ],
          "name": "stdout"
        }
      ]
    },
    {
      "cell_type": "code",
      "metadata": {
        "colab": {
          "base_uri": "https://localhost:8080/"
        },
        "id": "YMwCiOoq3yj2",
        "outputId": "3e2138b0-bc44-4c65-bb44-6f89034760ac"
      },
      "source": [
        "(df[[\"yrs.service\", \"salary\"]].mean()"
      ],
      "execution_count": 27,
      "outputs": [
        {
          "output_type": "execute_result",
          "data": {
            "text/plain": [
              "yrs.service        31.057325\n",
              "salary         122520.656051\n",
              "dtype: float64"
            ]
          },
          "metadata": {
            "tags": []
          },
          "execution_count": 27
        }
      ]
    },
    {
      "cell_type": "markdown",
      "metadata": {
        "id": "0j4wNBcM5CPj"
      },
      "source": [
        "Comparing the salaries of people who have 20+ years of experience vs less than 20 years of experience"
      ]
    },
    {
      "cell_type": "code",
      "metadata": {
        "colab": {
          "base_uri": "https://localhost:8080/"
        },
        "id": "S4aQhcAj5LHY",
        "outputId": "c2d17d90-7427-4e7f-dd49-b1166ba55d39"
      },
      "source": [
        "less_20 = experience_20[experience_20[\"yrs.service\"]<20]\n",
        "print((less_20).mean())"
      ],
      "execution_count": 28,
      "outputs": [
        {
          "output_type": "stream",
          "text": [
            "yrs.service         8.820833\n",
            "salary         107940.504167\n",
            "dtype: float64\n"
          ],
          "name": "stdout"
        }
      ]
    },
    {
      "cell_type": "code",
      "metadata": {
        "colab": {
          "base_uri": "https://localhost:8080/"
        },
        "id": "9EHgGm_I6JbS",
        "outputId": "ee60ef08-4243-4d9d-ee0d-d935e9b6cb58"
      },
      "source": [
        "diff = df.mean()[['salary']]-less_20.mean()[['salary']]\n",
        "print(diff)"
      ],
      "execution_count": 29,
      "outputs": [
        {
          "output_type": "stream",
          "text": [
            "salary    14580.151884\n",
            "dtype: float64\n"
          ],
          "name": "stdout"
        }
      ]
    },
    {
      "cell_type": "markdown",
      "metadata": {
        "id": "9c8tXdKd-kuv"
      },
      "source": [
        "People who have salary of greater than or equal to 200,**000**"
      ]
    },
    {
      "cell_type": "code",
      "metadata": {
        "colab": {
          "base_uri": "https://localhost:8080/"
        },
        "id": "Ewvft6J1-qs1",
        "outputId": "2b27091b-9517-4aad-cdf7-0bcb58e6fad9"
      },
      "source": [
        "grater_200k = experience_20[experience_20['salary']>=200000]\n",
        "print(grater_200k.count())"
      ],
      "execution_count": 30,
      "outputs": [
        {
          "output_type": "stream",
          "text": [
            "yrs.service    3\n",
            "salary         3\n",
            "dtype: int64\n"
          ],
          "name": "stdout"
        }
      ]
    },
    {
      "cell_type": "markdown",
      "metadata": {
        "id": "XH6ACIog_PMj"
      },
      "source": [
        "**Conclusion**\n",
        "\n",
        "The median years service for all males is 18.\n",
        "\n",
        "The median years service for all females is 10.\n",
        "\n",
        "The median salary for all females is 103750.0.\n",
        "\n",
        "The median salary for all males is 108043.0.\n",
        "\n",
        "The difference between mean salaries of male and female is 14088.01.\n",
        "\n",
        "People gets $14580.15 more salary if they're experinence over 20 years.\n",
        "\n",
        "3 People have salary of greater than or equal to 200,000.\n",
        "\n"
      ]
    },
    {
      "cell_type": "markdown",
      "metadata": {
        "id": "_XCs49i81iNA"
      },
      "source": [
        "\n",
        "**Rename values, subset columns, etc**\n"
      ]
    },
    {
      "cell_type": "code",
      "metadata": {
        "colab": {
          "base_uri": "https://localhost:8080/"
        },
        "id": "ibP-ZpRC1swA",
        "outputId": "9e606766-5704-49ea-d44a-576d1b72e229"
      },
      "source": [
        "Rename_df = Salaries_df\n",
        "print(Rename_df)\n"
      ],
      "execution_count": 32,
      "outputs": [
        {
          "output_type": "stream",
          "text": [
            "     Unnamed: 0      rank discipline  yrs.since.phd  yrs.service   sex  salary\n",
            "0             1      Prof          B             19           18  Male  139750\n",
            "1             2      Prof          B             20           16  Male  173200\n",
            "2             3  AsstProf          B              4            3  Male   79750\n",
            "3             4      Prof          B             45           39  Male  115000\n",
            "4             5      Prof          B             40           41  Male  141500\n",
            "..          ...       ...        ...            ...          ...   ...     ...\n",
            "392         393      Prof          A             33           30  Male  103106\n",
            "393         394      Prof          A             31           19  Male  150564\n",
            "394         395      Prof          A             42           25  Male  101738\n",
            "395         396      Prof          A             25           15  Male   95329\n",
            "396         397  AsstProf          A              8            4  Male   81035\n",
            "\n",
            "[397 rows x 7 columns]\n"
          ],
          "name": "stdout"
        }
      ]
    },
    {
      "cell_type": "markdown",
      "metadata": {
        "id": "8zyZ20hJ2z8S"
      },
      "source": [
        "**Create some simple visualizations showing some simple statistics**"
      ]
    },
    {
      "cell_type": "code",
      "metadata": {
        "colab": {
          "base_uri": "https://localhost:8080/",
          "height": 349
        },
        "id": "pjbwPj7422D1",
        "outputId": "94648e7b-2ae5-415a-caab-ee862a4b19f5"
      },
      "source": [
        "import seaborn as sns\n",
        "sns.distplot(Salaries_df['salary'],bins =20)\n",
        "plt.title('Distribution of salary range')\n",
        "plt.show()"
      ],
      "execution_count": 74,
      "outputs": [
        {
          "output_type": "stream",
          "text": [
            "/usr/local/lib/python3.7/dist-packages/seaborn/distributions.py:2557: FutureWarning: `distplot` is a deprecated function and will be removed in a future version. Please adapt your code to use either `displot` (a figure-level function with similar flexibility) or `histplot` (an axes-level function for histograms).\n",
            "  warnings.warn(msg, FutureWarning)\n"
          ],
          "name": "stderr"
        },
        {
          "output_type": "display_data",
          "data": {
            "image/png": "[encoded data removed]",
            "text/plain": [
              "<Figure size 432x288 with 1 Axes>"
            ]
          },
          "metadata": {
            "tags": [],
            "needs_background": "light"
          }
        }
      ]
    },
    {
      "cell_type": "code",
      "metadata": {
        "colab": {
          "base_uri": "https://localhost:8080/",
          "height": 325
        },
        "id": "0YdEqpcZJ3sp",
        "outputId": "152dbf46-d6c2-47dc-a361-76380d4cb7cd"
      },
      "source": [
        "Salaries_df.groupby(['salary'])['sex'].count().sort_values(ascending=True).plot(kind='bar')"
      ],
      "execution_count": 75,
      "outputs": [
        {
          "output_type": "execute_result",
          "data": {
            "text/plain": [
              "<matplotlib.axes._subplots.AxesSubplot at 0x7f677967bc90>"
            ]
          },
          "metadata": {
            "tags": []
          },
          "execution_count": 75
        },
        {
          "output_type": "display_data",
          "data": {
            "image/png": "[encoded data removed]",
            "text/plain": [
              "<Figure size 432x288 with 1 Axes>"
            ]
          },
          "metadata": {
            "tags": [],
            "needs_background": "light"
          }
        }
      ]
    },
    {
      "cell_type": "code",
      "metadata": {
        "colab": {
          "base_uri": "https://localhost:8080/",
          "height": 282
        },
        "id": "iyNtORtFKSVE",
        "outputId": "ce4669f3-bc71-4b43-e243-e663a3cab4df"
      },
      "source": [
        "Salaries_df.plot()"
      ],
      "execution_count": 76,
      "outputs": [
        {
          "output_type": "execute_result",
          "data": {
            "text/plain": [
              "<matplotlib.axes._subplots.AxesSubplot at 0x7f677447e250>"
            ]
          },
          "metadata": {
            "tags": []
          },
          "execution_count": 76
        },
        {
          "output_type": "display_data",
          "data": {
            "image/png": "[encoded data removed]",
            "text/plain": [
              "<Figure size 432x288 with 1 Axes>"
            ]
          },
          "metadata": {
            "tags": [],
            "needs_background": "light"
          }
        }
      ]
    },
    {
      "cell_type": "code",
      "metadata": {
        "colab": {
          "base_uri": "https://localhost:8080/",
          "height": 282
        },
        "id": "sGJFykigKdwN",
        "outputId": "81ac88ba-e2ce-462c-fdcc-2dce8ad020c7"
      },
      "source": [
        "Salaries_df.plot(kind='line')"
      ],
      "execution_count": 77,
      "outputs": [
        {
          "output_type": "execute_result",
          "data": {
            "text/plain": [
              "<matplotlib.axes._subplots.AxesSubplot at 0x7f67742a8210>"
            ]
          },
          "metadata": {
            "tags": []
          },
          "execution_count": 77
        },
        {
          "output_type": "display_data",
          "data": {
            "image/png": "[encoded data removed]",
            "text/plain": [
              "<Figure size 432x288 with 1 Axes>"
            ]
          },
          "metadata": {
            "tags": [],
            "needs_background": "light"
          }
        }
      ]
    },
    {
      "cell_type": "code",
      "metadata": {
        "colab": {
          "base_uri": "https://localhost:8080/",
          "height": 295
        },
        "id": "_Z_pQeIN3Cat",
        "outputId": "e672a442-e666-4034-c158-09fc50b5feeb"
      },
      "source": [
        "sns.boxplot(x = 'salary', y = 'sex', data = Rename_df)\n",
        "plt.ylim(0,1)\n",
        "plt.title('comperison between male and female salary')\n",
        "plt.show()"
      ],
      "execution_count": 36,
      "outputs": [
        {
          "output_type": "display_data",
          "data": {
            "image/png": "[encoded data removed]",
            "text/plain": [
              "<Figure size 432x288 with 1 Axes>"
            ]
          },
          "metadata": {
            "tags": [],
            "needs_background": "light"
          }
        }
      ]
    },
    {
      "cell_type": "code",
      "metadata": {
        "colab": {
          "base_uri": "https://localhost:8080/",
          "height": 295
        },
        "id": "VToQRFGN3LF0",
        "outputId": "e228cdd7-0f7e-4c2a-feb4-d9b01439e2ef"
      },
      "source": [
        "sns.boxplot(x = 'yrs.service', y = 'salary', data = experience_20)\n",
        "plt.ylim(20000,250000)\n",
        "plt.xlim(1,30)\n",
        "plt.title('Relationship between salary and experience')\n",
        "plt.show()"
      ],
      "execution_count": 38,
      "outputs": [
        {
          "output_type": "display_data",
          "data": {
            "image/png": "[encoded data removed]",
            "text/plain": [
              "<Figure size 432x288 with 1 Axes>"
            ]
          },
          "metadata": {
            "tags": [],
            "needs_background": "light"
          }
        }
      ]
    },
    {
      "cell_type": "markdown",
      "metadata": {
        "id": "QsDxTbym_Uqj"
      },
      "source": [
        ""
      ]
    },
    {
      "cell_type": "markdown",
      "metadata": {
        "id": "Mf3vTrue3ZSz"
      },
      "source": [
        "**Draw some conclusions based on the data. What did you discover?**"
      ]
    },
    {
      "cell_type": "markdown",
      "metadata": {
        "id": "D1mfFHd7GAbA"
      },
      "source": [
        "Males' and females' salaries are different, also the males have more years of service than females.\n",
        "\n",
        "I also discovered that the -\n",
        "professors who have experience earn more salaries."
      ]
    }
  ]
}